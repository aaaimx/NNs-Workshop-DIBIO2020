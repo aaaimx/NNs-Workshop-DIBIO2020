{
 "nbformat": 4,
 "nbformat_minor": 2,
 "metadata": {
  "language_info": {
   "name": "python",
   "codemirror_mode": {
    "name": "ipython",
    "version": 3
   },
   "version": "3.7.5-final"
  },
  "orig_nbformat": 2,
  "file_extension": ".py",
  "mimetype": "text/x-python",
  "name": "python",
  "npconvert_exporter": "python",
  "pygments_lexer": "ipython3",
  "version": 3,
  "kernelspec": {
   "name": "python37564bitiapipenv16cc273046404a8fae8204df2ee5d5f3",
   "display_name": "Python 3.7.5 64-bit ('IA': pipenv)"
  }
 },
 "cells": [
  {
   "cell_type": "code",
   "execution_count": 1,
   "metadata": {},
   "outputs": [],
   "source": [
    "import tensorflow as tf\n",
    "from tensorflow import keras\n",
    "from tensorflow.keras.layers import Dense #, Dropout, Flatten, Conv2D, MaxPooling2D\n",
    "from tensorflow.keras.models import Sequential, load_model\n",
    "from tensorflow.keras.optimizers import Adam #, SGD\n",
    "import matplotlib.pyplot as plt\n",
    "import numpy as np"
   ]
  },
  {
   "cell_type": "code",
   "execution_count": 2,
   "metadata": {},
   "outputs": [],
   "source": [
    "x = np.array([[-2, -3, -1, 1, 0, 2, 4, 5, 6]]).T\n",
    "y = np.array([[-5, -7, -3, 1, -1, 3, 7, 9, 11]]).T\n",
    "\n",
    "dataset = tf.data.Dataset.from_tensor_slices((x, y))\n",
    "dataset = dataset.batch(len(x))"
   ]
  },
  {
   "cell_type": "code",
   "execution_count": 3,
   "metadata": {},
   "outputs": [],
   "source": [
    "# Tipo de capa(numero neuronas, funcion, use_bias = 'True', 'Si es la primera -->' input_shape=(n, n))\n",
    "model = Sequential([\n",
    "    Dense(1, input_shape = (1, ))\n",
    "])"
   ]
  },
  {
   "cell_type": "code",
   "execution_count": 9,
   "metadata": {},
   "outputs": [],
   "source": [
    "model.compile(\n",
    "    optimizer= Adam(lr = 0.05, decay = 0.01),\n",
    "    loss='mse', # 'categorical_crossentropy', 'binary_crossentropy', 'mse', 'mae', 'sparse_categorical_crossentropy'\n",
    "    metrics=['accuracy'] # 'accuracy', 'mae'\n",
    ")"
   ]
  },
  {
   "cell_type": "code",
   "execution_count": 10,
   "metadata": {},
   "outputs": [
    {
     "output_type": "stream",
     "name": "stdout",
     "text": "Train for 100 steps\nEpoch 1/10\n100/100 [==============================] - 0s 3ms/step - loss: 0.0010 - accuracy: 0.1111\nEpoch 2/10\n100/100 [==============================] - 0s 1ms/step - loss: 2.6477e-08 - accuracy: 0.1111\nEpoch 3/10\n100/100 [==============================] - 0s 967us/step - loss: 5.7766e-13 - accuracy: 0.1111\nEpoch 4/10\n100/100 [==============================] - 0s 958us/step - loss: 0.0000e+00 - accuracy: 0.1111\nEpoch 5/10\n100/100 [==============================] - 0s 918us/step - loss: 0.0000e+00 - accuracy: 0.1111\nEpoch 6/10\n100/100 [==============================] - 0s 1ms/step - loss: 0.0000e+00 - accuracy: 0.1111\nEpoch 7/10\n100/100 [==============================] - 0s 927us/step - loss: 0.0000e+00 - accuracy: 0.1111\nEpoch 8/10\n100/100 [==============================] - 0s 963us/step - loss: 0.0000e+00 - accuracy: 0.1111\nEpoch 9/10\n100/100 [==============================] - 0s 1ms/step - loss: 0.0000e+00 - accuracy: 0.1111\nEpoch 10/10\n100/100 [==============================] - 0s 1ms/step - loss: 0.0000e+00 - accuracy: 0.1111\n"
    },
    {
     "output_type": "execute_result",
     "data": {
      "text/plain": "<tensorflow.python.keras.callbacks.History at 0x1c61f4ea048>"
     },
     "metadata": {},
     "execution_count": 10
    }
   ],
   "source": [
    "model.fit(dataset.repeat(), epochs= 10, steps_per_epoch = 100) # callbacks = [callbacks] "
   ]
  },
  {
   "cell_type": "code",
   "execution_count": 12,
   "metadata": {},
   "outputs": [
    {
     "output_type": "execute_result",
     "data": {
      "text/plain": "array([[59.]], dtype=float32)"
     },
     "metadata": {},
     "execution_count": 12
    }
   ],
   "source": [
    "model.predict([30])"
   ]
  },
  {
   "cell_type": "code",
   "execution_count": null,
   "metadata": {},
   "outputs": [],
   "source": []
  }
 ]
}